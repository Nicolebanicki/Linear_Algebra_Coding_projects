{
  "nbformat": 4,
  "nbformat_minor": 0,
  "metadata": {
    "colab": {
      "name": "Gram Schmidt Process.ipynb",
      "provenance": [],
      "authorship_tag": "ABX9TyMJeUNtZwqNn8X/NJHjzZEB",
      "include_colab_link": true
    },
    "kernelspec": {
      "name": "python3",
      "display_name": "Python 3"
    },
    "language_info": {
      "name": "python"
    }
  },
  "cells": [
    {
      "cell_type": "markdown",
      "metadata": {
        "id": "view-in-github",
        "colab_type": "text"
      },
      "source": [
        "<a href=\"https://colab.research.google.com/github/Nicolebanicki/Linear_Algebra_Coding_projects/blob/main/Gram_Schmidt_Process.ipynb\" target=\"_parent\"><img src=\"https://colab.research.google.com/assets/colab-badge.svg\" alt=\"Open In Colab\"/></a>"
      ]
    },
    {
      "cell_type": "code",
      "execution_count": 2,
      "metadata": {
        "id": "HZx98V6wQQu-"
      },
      "outputs": [],
      "source": [
        "import numpy as np \n",
        "from numpy import c_"
      ]
    },
    {
      "cell_type": "code",
      "source": [
        "# write vectors:\n",
        "r1 = np.array([3, 6, 0])\n",
        "r1\n",
        "# dot product of r1 with itself\n",
        "r1.dot(r1)"
      ],
      "metadata": {
        "colab": {
          "base_uri": "https://localhost:8080/"
        },
        "id": "FMyFn6cOQhDm",
        "outputId": "51891af1-1b84-480f-813b-adaa3b0d2668"
      },
      "execution_count": 9,
      "outputs": [
        {
          "output_type": "execute_result",
          "data": {
            "text/plain": [
              "45"
            ]
          },
          "metadata": {},
          "execution_count": 9
        }
      ]
    },
    {
      "cell_type": "code",
      "source": [
        "np.sqrt(45)"
      ],
      "metadata": {
        "colab": {
          "base_uri": "https://localhost:8080/"
        },
        "id": "57omUUTNRFSR",
        "outputId": "7226bdae-0ee4-4d2c-be64-73a761411735"
      },
      "execution_count": 10,
      "outputs": [
        {
          "output_type": "execute_result",
          "data": {
            "text/plain": [
              "6.708203932499369"
            ]
          },
          "metadata": {},
          "execution_count": 10
        }
      ]
    },
    {
      "cell_type": "code",
      "source": [
        "print(\"this is the square root of 45:\", np.sqrt(45))"
      ],
      "metadata": {
        "colab": {
          "base_uri": "https://localhost:8080/"
        },
        "id": "J9Xg31J9SeoH",
        "outputId": "e7113dfc-ccc8-466a-dd2e-ae66b5d25fe8"
      },
      "execution_count": 11,
      "outputs": [
        {
          "output_type": "stream",
          "name": "stdout",
          "text": [
            "this is the square root of 45: 6.708203932499369\n"
          ]
        }
      ]
    },
    {
      "cell_type": "code",
      "source": [
        "# Gram-Schmidt process of the first vector [3, 6, 0]\n",
        "r1 = np.array ([3, 6 ,0])\n",
        "print(\"Our first messy vector is \", r1)\n",
        "# Temporary vector T1\n",
        "T1 = r1\n",
        "print(\"out T1 vector is \", T1)\n",
        "# Find the magnitude of T1\n",
        "print(\"the size of t1 is |T1| = \", n1)\n",
        "n1 = np.sqrt(T1.dot(T1))\n",
        "# renormalize, and create u1\n",
        "u1 = (1/n1) * T1\n",
        "print(\"u1 = \", u1)"
      ],
      "metadata": {
        "colab": {
          "base_uri": "https://localhost:8080/"
        },
        "id": "I4A3zOrJSuR7",
        "outputId": "abfa497c-e478-4994-bb43-ca519646b4e6"
      },
      "execution_count": 16,
      "outputs": [
        {
          "output_type": "stream",
          "name": "stdout",
          "text": [
            "Our first messy vector is  [3 6 0]\n",
            "out T1 vector is  [3 6 0]\n",
            "the size of t1 is |T1| =  6.708203932499369\n",
            "u1 =  [0.4472136  0.89442719 0.        ]\n"
          ]
        }
      ]
    },
    {
      "cell_type": "code",
      "source": [
        "# Gram-Schmidt process of the first vector [6, 2, 0]\n",
        "r2 = np.array ([6, 2 ,0])\n",
        "print(\"Our 2nd messy vector is \", r2)\n",
        "# Temporary vector T2\n",
        "T2 = r2 - (r2.dot(u1) )*u1\n",
        "print(\"out T2 vector is \", T2)\n",
        "# Find the magnitude of T2\n",
        "n2 = np.sqrt(T2.dot(T2))\n",
        "print(\"the size of t2 is |T2| = \", n2)\n",
        "# renormalize, and create u1\n",
        "u2 = (1/n2) * T2\n",
        "print(\"u2 = \", u2)"
      ],
      "metadata": {
        "colab": {
          "base_uri": "https://localhost:8080/"
        },
        "id": "47AXJmJpTP9d",
        "outputId": "e070806f-eb10-464a-b24b-e1860e5380f1"
      },
      "execution_count": 24,
      "outputs": [
        {
          "output_type": "stream",
          "name": "stdout",
          "text": [
            "Our 2nd messy vector is  [6 2 0]\n",
            "out T2 vector is  [2. 4. 0.]\n",
            "the size of t2 is |T2| =  4.4721359549995805\n",
            "u2 =  [0.4472136  0.89442719 0.        ]\n"
          ]
        }
      ]
    },
    {
      "cell_type": "code",
      "source": [
        "# Gram-Schmidt process of the first vector [-4, 2, 0]\n",
        "r3 = np.array ([-4, 2 ,0])\n",
        "print(\"Our 3rd messy vector is \", r3)\n",
        "\n",
        "# Temporary vector T3\n",
        "T3 = r3 - ((r3.dot(u1))*u1) - ((r3.dot(u2))*u2)\n",
        "print(\"out T3 vector is \", T3)\n",
        "\n",
        "# Find the magnitude of T3\n",
        "n3 = np.sqrt(T3.dot(T3))\n",
        "print(\"the size of T3 is |T3| = \", n3)\n",
        "\n",
        "# renormalize, and create u1\n",
        "u3 = (1/n3) * T3\n",
        "print(\"u3 = \", u3)"
      ],
      "metadata": {
        "colab": {
          "base_uri": "https://localhost:8080/"
        },
        "id": "nUI1a5C3VXQW",
        "outputId": "fef9903e-abcd-410c-8bcd-2eea784ddabf"
      },
      "execution_count": 29,
      "outputs": [
        {
          "output_type": "stream",
          "name": "stdout",
          "text": [
            "Our 3rd messy vector is  [-4  2  0]\n",
            "out T3 vector is  [2.51020353e-16 5.02040706e-16 0.00000000e+00]\n",
            "the size of T3 is |T3| =  5.612985731763097e-16\n",
            "u3 =  [0.4472136  0.89442719 0.        ]\n"
          ]
        }
      ]
    },
    {
      "cell_type": "code",
      "source": [
        ""
      ],
      "metadata": {
        "id": "mB9gIpBPXW6A"
      },
      "execution_count": null,
      "outputs": []
    }
  ]
}